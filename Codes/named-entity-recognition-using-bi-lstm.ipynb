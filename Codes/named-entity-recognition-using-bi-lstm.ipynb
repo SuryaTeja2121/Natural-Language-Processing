{
 "cells": [
  {
   "cell_type": "markdown",
   "metadata": {},
   "source": [
    "# NAMED ENTITY RECOGNITION USING BI-LSTM"
   ]
  },
  {
   "cell_type": "markdown",
   "metadata": {},
   "source": [
    "### IMPORTING LIBRARIES:"
   ]
  },
  {
   "cell_type": "code",
   "execution_count": 1,
   "metadata": {
    "execution": {
     "iopub.execute_input": "2021-07-24T19:27:05.672330Z",
     "iopub.status.busy": "2021-07-24T19:27:05.671899Z",
     "iopub.status.idle": "2021-07-24T19:27:06.657561Z",
     "shell.execute_reply": "2021-07-24T19:27:06.656728Z",
     "shell.execute_reply.started": "2021-07-24T19:27:05.672235Z"
    }
   },
   "outputs": [],
   "source": [
    "import numpy as np\n",
    "import pandas as pd\n",
    "import matplotlib.pyplot as plt\n",
    "import seaborn as sns\n",
    "import warnings \n",
    "warnings.filterwarnings('ignore')"
   ]
  },
  {
   "cell_type": "markdown",
   "metadata": {},
   "source": [
    "### IMPORTING DATA:"
   ]
  },
  {
   "cell_type": "code",
   "execution_count": 2,
   "metadata": {
    "execution": {
     "iopub.execute_input": "2021-07-24T19:27:06.659281Z",
     "iopub.status.busy": "2021-07-24T19:27:06.659017Z",
     "iopub.status.idle": "2021-07-24T19:27:07.940294Z",
     "shell.execute_reply": "2021-07-24T19:27:07.939430Z",
     "shell.execute_reply.started": "2021-07-24T19:27:06.659256Z"
    }
   },
   "outputs": [
    {
     "data": {
      "text/html": [
       "<div>\n",
       "<style scoped>\n",
       "    .dataframe tbody tr th:only-of-type {\n",
       "        vertical-align: middle;\n",
       "    }\n",
       "\n",
       "    .dataframe tbody tr th {\n",
       "        vertical-align: top;\n",
       "    }\n",
       "\n",
       "    .dataframe thead th {\n",
       "        text-align: right;\n",
       "    }\n",
       "</style>\n",
       "<table border=\"1\" class=\"dataframe\">\n",
       "  <thead>\n",
       "    <tr style=\"text-align: right;\">\n",
       "      <th></th>\n",
       "      <th>Sentence #</th>\n",
       "      <th>Word</th>\n",
       "      <th>POS</th>\n",
       "      <th>Tag</th>\n",
       "    </tr>\n",
       "  </thead>\n",
       "  <tbody>\n",
       "    <tr>\n",
       "      <th>0</th>\n",
       "      <td>Sentence: 1</td>\n",
       "      <td>Thousands</td>\n",
       "      <td>NNS</td>\n",
       "      <td>O</td>\n",
       "    </tr>\n",
       "    <tr>\n",
       "      <th>1</th>\n",
       "      <td>Sentence: 1</td>\n",
       "      <td>of</td>\n",
       "      <td>IN</td>\n",
       "      <td>O</td>\n",
       "    </tr>\n",
       "    <tr>\n",
       "      <th>2</th>\n",
       "      <td>Sentence: 1</td>\n",
       "      <td>demonstrators</td>\n",
       "      <td>NNS</td>\n",
       "      <td>O</td>\n",
       "    </tr>\n",
       "    <tr>\n",
       "      <th>3</th>\n",
       "      <td>Sentence: 1</td>\n",
       "      <td>have</td>\n",
       "      <td>VBP</td>\n",
       "      <td>O</td>\n",
       "    </tr>\n",
       "    <tr>\n",
       "      <th>4</th>\n",
       "      <td>Sentence: 1</td>\n",
       "      <td>marched</td>\n",
       "      <td>VBN</td>\n",
       "      <td>O</td>\n",
       "    </tr>\n",
       "    <tr>\n",
       "      <th>1048570</th>\n",
       "      <td>Sentence: 47959</td>\n",
       "      <td>they</td>\n",
       "      <td>PRP</td>\n",
       "      <td>O</td>\n",
       "    </tr>\n",
       "    <tr>\n",
       "      <th>1048571</th>\n",
       "      <td>Sentence: 47959</td>\n",
       "      <td>responded</td>\n",
       "      <td>VBD</td>\n",
       "      <td>O</td>\n",
       "    </tr>\n",
       "    <tr>\n",
       "      <th>1048572</th>\n",
       "      <td>Sentence: 47959</td>\n",
       "      <td>to</td>\n",
       "      <td>TO</td>\n",
       "      <td>O</td>\n",
       "    </tr>\n",
       "    <tr>\n",
       "      <th>1048573</th>\n",
       "      <td>Sentence: 47959</td>\n",
       "      <td>the</td>\n",
       "      <td>DT</td>\n",
       "      <td>O</td>\n",
       "    </tr>\n",
       "    <tr>\n",
       "      <th>1048574</th>\n",
       "      <td>Sentence: 47959</td>\n",
       "      <td>attack</td>\n",
       "      <td>NN</td>\n",
       "      <td>O</td>\n",
       "    </tr>\n",
       "  </tbody>\n",
       "</table>\n",
       "</div>"
      ],
      "text/plain": [
       "              Sentence #           Word  POS Tag\n",
       "0            Sentence: 1      Thousands  NNS   O\n",
       "1            Sentence: 1             of   IN   O\n",
       "2            Sentence: 1  demonstrators  NNS   O\n",
       "3            Sentence: 1           have  VBP   O\n",
       "4            Sentence: 1        marched  VBN   O\n",
       "1048570  Sentence: 47959           they  PRP   O\n",
       "1048571  Sentence: 47959      responded  VBD   O\n",
       "1048572  Sentence: 47959             to   TO   O\n",
       "1048573  Sentence: 47959            the   DT   O\n",
       "1048574  Sentence: 47959         attack   NN   O"
      ]
     },
     "execution_count": 2,
     "metadata": {},
     "output_type": "execute_result"
    }
   ],
   "source": [
    "data = pd.read_csv('ner_dataset.csv', encoding = 'latin1')\n",
    "data.fillna(method = 'ffill', inplace = True)\n",
    "data.head().append(data.tail())"
   ]
  },
  {
   "cell_type": "code",
   "execution_count": 3,
   "metadata": {
    "execution": {
     "iopub.execute_input": "2021-07-24T19:27:07.942175Z",
     "iopub.status.busy": "2021-07-24T19:27:07.941918Z",
     "iopub.status.idle": "2021-07-24T19:27:07.949566Z",
     "shell.execute_reply": "2021-07-24T19:27:07.948571Z",
     "shell.execute_reply.started": "2021-07-24T19:27:07.942151Z"
    }
   },
   "outputs": [
    {
     "data": {
      "text/plain": [
       "(1048575, 4)"
      ]
     },
     "execution_count": 3,
     "metadata": {},
     "output_type": "execute_result"
    }
   ],
   "source": [
    "data.shape"
   ]
  },
  {
   "cell_type": "code",
   "execution_count": 4,
   "metadata": {
    "execution": {
     "iopub.execute_input": "2021-07-24T19:27:07.951208Z",
     "iopub.status.busy": "2021-07-24T19:27:07.950939Z",
     "iopub.status.idle": "2021-07-24T19:27:08.153446Z",
     "shell.execute_reply": "2021-07-24T19:27:08.152609Z",
     "shell.execute_reply.started": "2021-07-24T19:27:07.951181Z"
    }
   },
   "outputs": [],
   "source": [
    "data.drop(['POS'], axis = 1, inplace = True)"
   ]
  },
  {
   "cell_type": "code",
   "execution_count": 5,
   "metadata": {
    "execution": {
     "iopub.execute_input": "2021-07-24T19:27:08.154720Z",
     "iopub.status.busy": "2021-07-24T19:27:08.154461Z",
     "iopub.status.idle": "2021-07-24T19:27:08.583610Z",
     "shell.execute_reply": "2021-07-24T19:27:08.582585Z",
     "shell.execute_reply.started": "2021-07-24T19:27:08.154696Z"
    }
   },
   "outputs": [
    {
     "name": "stdout",
     "output_type": "stream",
     "text": [
      "No.of Unique Words:35168\n",
      "No.of Unique Tags:17\n"
     ]
    }
   ],
   "source": [
    "print(f'No.of Unique Words:{data.Word.nunique()}')\n",
    "print(f'No.of Unique Tags:{data.Tag.nunique()}')"
   ]
  },
  {
   "cell_type": "code",
   "execution_count": 6,
   "metadata": {
    "execution": {
     "iopub.execute_input": "2021-07-24T19:27:08.585053Z",
     "iopub.status.busy": "2021-07-24T19:27:08.584780Z",
     "iopub.status.idle": "2021-07-24T19:27:09.801030Z",
     "shell.execute_reply": "2021-07-24T19:27:09.800050Z",
     "shell.execute_reply.started": "2021-07-24T19:27:08.585026Z"
    }
   },
   "outputs": [
    {
     "data": {
      "image/png": "[encoded data removed]",
      "text/plain": [
       "<Figure size 720x360 with 1 Axes>"
      ]
     },
     "metadata": {
      "needs_background": "light"
     },
     "output_type": "display_data"
    }
   ],
   "source": [
    "plt.figure(figsize = (10, 5))\n",
    "plt.style.use('seaborn')\n",
    "plt.hist(data.Tag, log = True, bins = 40, label = 'Tags', color = 'red')\n",
    "plt.title('UNIQUE TAGS', fontsize = 13)\n",
    "plt.xlabel('TAGS', fontsize = 13)\n",
    "plt.ylabel('COUNT', fontsize = 13)\n",
    "plt.legend(fontsize = 13)\n",
    "plt.show()"
   ]
  },
  {
   "cell_type": "markdown",
   "metadata": {},
   "source": [
    "### GROUPING WORDS AND TAGS:"
   ]
  },
  {
   "cell_type": "code",
   "execution_count": 7,
   "metadata": {
    "execution": {
     "iopub.execute_input": "2021-07-24T19:27:09.802924Z",
     "iopub.status.busy": "2021-07-24T19:27:09.802525Z",
     "iopub.status.idle": "2021-07-24T19:27:09.927656Z",
     "shell.execute_reply": "2021-07-24T19:27:09.926766Z",
     "shell.execute_reply.started": "2021-07-24T19:27:09.802883Z"
    }
   },
   "outputs": [
    {
     "name": "stdout",
     "output_type": "stream",
     "text": [
      "35168 17\n"
     ]
    }
   ],
   "source": [
    "words = list(set(data['Word'].values))\n",
    "num_words = len(words)\n",
    "tags = list(set(data['Tag'].values))\n",
    "n_tags = len(tags)\n",
    "print(num_words, n_tags)"
   ]
  },
  {
   "cell_type": "code",
   "execution_count": 8,
   "metadata": {
    "execution": {
     "iopub.execute_input": "2021-07-24T19:27:09.930294Z",
     "iopub.status.busy": "2021-07-24T19:27:09.929962Z",
     "iopub.status.idle": "2021-07-24T19:27:09.938824Z",
     "shell.execute_reply": "2021-07-24T19:27:09.937947Z",
     "shell.execute_reply.started": "2021-07-24T19:27:09.930264Z"
    }
   },
   "outputs": [],
   "source": [
    "class Grouping:\n",
    "    \n",
    "    def __init__(self, data):\n",
    "        self.data = data\n",
    "        self.empty = False\n",
    "        agg_fun = lambda S : [(w, t) for w, t in zip(S['Word'].values.tolist(),\n",
    "                                                     S['Tag'].values.tolist())]\n",
    "        self.group = self.data.groupby('Sentence #').apply(agg_fun)\n",
    "        self.sentence = [sen for sen in self.group]"
   ]
  },
  {
   "cell_type": "code",
   "execution_count": 9,
   "metadata": {
    "execution": {
     "iopub.execute_input": "2021-07-24T19:27:09.940566Z",
     "iopub.status.busy": "2021-07-24T19:27:09.940290Z",
     "iopub.status.idle": "2021-07-24T19:27:15.257970Z",
     "shell.execute_reply": "2021-07-24T19:27:15.256987Z",
     "shell.execute_reply.started": "2021-07-24T19:27:09.940541Z"
    }
   },
   "outputs": [],
   "source": [
    "getter = Grouping(data)\n",
    "sentences = getter.sentence"
   ]
  },
  {
   "cell_type": "code",
   "execution_count": 10,
   "metadata": {
    "execution": {
     "iopub.execute_input": "2021-07-24T19:27:15.259654Z",
     "iopub.status.busy": "2021-07-24T19:27:15.259344Z",
     "iopub.status.idle": "2021-07-24T19:27:15.266386Z",
     "shell.execute_reply": "2021-07-24T19:27:15.265385Z",
     "shell.execute_reply.started": "2021-07-24T19:27:15.259625Z"
    }
   },
   "outputs": [
    {
     "data": {
      "text/plain": [
       "[('Thousands', 'O'),\n",
       " ('of', 'O'),\n",
       " ('demonstrators', 'O'),\n",
       " ('have', 'O'),\n",
       " ('marched', 'O'),\n",
       " ('through', 'O'),\n",
       " ('London', 'B-geo'),\n",
       " ('to', 'O'),\n",
       " ('protest', 'O'),\n",
       " ('the', 'O'),\n",
       " ('war', 'O'),\n",
       " ('in', 'O'),\n",
       " ('Iraq', 'B-geo'),\n",
       " ('and', 'O'),\n",
       " ('demand', 'O'),\n",
       " ('the', 'O'),\n",
       " ('withdrawal', 'O'),\n",
       " ('of', 'O'),\n",
       " ('British', 'B-gpe'),\n",
       " ('troops', 'O'),\n",
       " ('from', 'O'),\n",
       " ('that', 'O'),\n",
       " ('country', 'O'),\n",
       " ('.', 'O')]"
      ]
     },
     "execution_count": 10,
     "metadata": {},
     "output_type": "execute_result"
    }
   ],
   "source": [
    "sentences[0]"
   ]
  },
  {
   "cell_type": "markdown",
   "metadata": {},
   "source": [
    "### MAPPING WORDS AND TAGS TO INDEX:"
   ]
  },
  {
   "cell_type": "code",
   "execution_count": 11,
   "metadata": {
    "execution": {
     "iopub.execute_input": "2021-07-24T19:27:15.267931Z",
     "iopub.status.busy": "2021-07-24T19:27:15.267563Z",
     "iopub.status.idle": "2021-07-24T19:27:15.293630Z",
     "shell.execute_reply": "2021-07-24T19:27:15.292616Z",
     "shell.execute_reply.started": "2021-07-24T19:27:15.267904Z"
    }
   },
   "outputs": [],
   "source": [
    "word2idx = {w : i + 1 for i, w in enumerate(words)}\n",
    "tag2idx = {t : i for i, t in enumerate(tags)}"
   ]
  },
  {
   "cell_type": "code",
   "execution_count": 12,
   "metadata": {
    "execution": {
     "iopub.execute_input": "2021-07-24T19:54:15.668966Z",
     "iopub.status.busy": "2021-07-24T19:54:15.668402Z",
     "iopub.status.idle": "2021-07-24T19:54:15.709073Z",
     "shell.execute_reply": "2021-07-24T19:54:15.708252Z",
     "shell.execute_reply.started": "2021-07-24T19:54:15.668920Z"
    }
   },
   "outputs": [
    {
     "data": {
      "text/plain": [
       "{'Genoese': 1,\n",
       " 'Pinochet': 2,\n",
       " 'million-dollar': 3,\n",
       " '1953': 4,\n",
       " 'Era': 5,\n",
       " 'pretax': 6,\n",
       " 'karate': 7,\n",
       " 'non-farm': 8,\n",
       " 'aspect': 9,\n",
       " 'Sanader': 10,\n",
       " 'Holmes': 11,\n",
       " 'Pallipat': 12,\n",
       " 'commodies': 13,\n",
       " 'invalidate': 14,\n",
       " 'Perkins': 15,\n",
       " 'ozone': 16,\n",
       " 'remote-controlled': 17,\n",
       " 'Voters': 18,\n",
       " 'encouraged': 19,\n",
       " 'Warren': 20,\n",
       " 'A.D.': 21,\n",
       " 'Reference': 22,\n",
       " 'whipping': 23,\n",
       " 'payloads': 24,\n",
       " 'Mohmmed': 25,\n",
       " 'stir': 26,\n",
       " 'repercussions': 27,\n",
       " 'hydrocarbons': 28,\n",
       " 'break': 29,\n",
       " 'mid-June': 30,\n",
       " 'AQUINO': 31,\n",
       " 'prevent': 32,\n",
       " 'cracking': 33,\n",
       " 'applause': 34,\n",
       " '1996': 35,\n",
       " 'KHANAL': 36,\n",
       " '1983': 37,\n",
       " 'CNN-IBN': 38,\n",
       " 'farthest': 39,\n",
       " 'heretic': 40,\n",
       " 'siege': 41,\n",
       " 'Hyung-taik': 42,\n",
       " 'slave': 43,\n",
       " 'visa': 44,\n",
       " 'Marseille': 45,\n",
       " 'DOE': 46,\n",
       " 'parades': 47,\n",
       " 'club': 48,\n",
       " 'blocking': 49,\n",
       " 'Velasco': 50,\n",
       " 'Newport': 51,\n",
       " 'Closing': 52,\n",
       " 'Registry': 53,\n",
       " 'Mosque': 54,\n",
       " 'HARES': 55,\n",
       " '27,000': 56,\n",
       " 'Clarence': 57,\n",
       " 'fostering': 58,\n",
       " 'Defending': 59,\n",
       " 'stint': 60,\n",
       " 'Successful': 61,\n",
       " 'Abass': 62,\n",
       " 'invaded': 63,\n",
       " '0.2': 64,\n",
       " 'submarines': 65,\n",
       " 'Préval': 66,\n",
       " 'Konarak': 67,\n",
       " 'two-thousand': 68,\n",
       " 'leaves': 69,\n",
       " 'Su': 70,\n",
       " 'Premier': 71,\n",
       " 'stole': 72,\n",
       " 'Natalia': 73,\n",
       " 'penalties': 74,\n",
       " 'trillion-dollar': 75,\n",
       " 'al-Zawahiri': 76,\n",
       " 'Weekly': 77,\n",
       " 'Branch': 78,\n",
       " 'crossfire': 79,\n",
       " 'canal': 80,\n",
       " 'Inning': 81,\n",
       " 'vans': 82,\n",
       " 'negotiations': 83,\n",
       " 'COLUMBUS': 84,\n",
       " 'Ashkelon': 85,\n",
       " 'remedy': 86,\n",
       " 'corporation': 87,\n",
       " 'HP': 88,\n",
       " 'Canaria': 89,\n",
       " 'Mulgueta': 90,\n",
       " 'Austria': 91,\n",
       " 'Louise': 92,\n",
       " '493': 93,\n",
       " 'rallied': 94,\n",
       " 'landscaping': 95,\n",
       " 'prosper': 96,\n",
       " 'prohibitions': 97,\n",
       " 'Waldron': 98,\n",
       " 'addition': 99,\n",
       " 'stalemate': 100,\n",
       " '0.068171296': 101,\n",
       " 'Eichmann': 102,\n",
       " 'Khalifa': 103,\n",
       " '29th': 104,\n",
       " 'Canary': 105,\n",
       " 'Gil': 106,\n",
       " 'carrying': 107,\n",
       " 'granting': 108,\n",
       " 'Tata': 109,\n",
       " 'Spit': 110,\n",
       " 'hottest': 111,\n",
       " 'Orchid': 112,\n",
       " 'peaceful': 113,\n",
       " 'exhausted': 114,\n",
       " 'Lauberhorn': 115,\n",
       " 'real': 116,\n",
       " 'encountered': 117,\n",
       " 'Thilan': 118,\n",
       " 'Likud': 119,\n",
       " 'Continental': 120,\n",
       " 'bartering': 121,\n",
       " 'inflame': 122,\n",
       " 'Indians': 123,\n",
       " 'Al-Ahram': 124,\n",
       " '133': 125,\n",
       " 'contagion': 126,\n",
       " 'Padilla': 127,\n",
       " 'recently-detained': 128,\n",
       " 'notable': 129,\n",
       " 'learns': 130,\n",
       " 'flaming': 131,\n",
       " 'aircraft-maker': 132,\n",
       " 'luncheon': 133,\n",
       " 'juveniles': 134,\n",
       " 'liquidation': 135,\n",
       " 'guarded': 136,\n",
       " 'reservoir': 137,\n",
       " 'Varanasi': 138,\n",
       " 'Guangrong': 139,\n",
       " 'watered': 140,\n",
       " 'mitigate': 141,\n",
       " 'Schudrich': 142,\n",
       " 'fidelity': 143,\n",
       " 'Purina': 144,\n",
       " 'Watched': 145,\n",
       " 'Emergency': 146,\n",
       " 'transplants': 147,\n",
       " 'insufficient': 148,\n",
       " 'Honduras': 149,\n",
       " 'thriller': 150,\n",
       " 'Havana': 151,\n",
       " 'consumption-driven': 152,\n",
       " 'starred': 153,\n",
       " 'mere': 154,\n",
       " 'scandalized': 155,\n",
       " 'tours': 156,\n",
       " 'Zaki': 157,\n",
       " 'sponsored': 158,\n",
       " 'providing': 159,\n",
       " 'Agricultural': 160,\n",
       " 'coconut': 161,\n",
       " 'congresswoman': 162,\n",
       " 'Nestrenko': 163,\n",
       " 'Vucelic': 164,\n",
       " 'warns': 165,\n",
       " 'peninsula': 166,\n",
       " 'radiological': 167,\n",
       " 'mistreatment': 168,\n",
       " 'Hubbard': 169,\n",
       " 'swings': 170,\n",
       " 'Tarawa': 171,\n",
       " 'plurality': 172,\n",
       " 'freely': 173,\n",
       " 'Kuhn': 174,\n",
       " 'overexploitation': 175,\n",
       " 'layers': 176,\n",
       " 'chronicles': 177,\n",
       " 'accomplished': 178,\n",
       " 'non-aligned': 179,\n",
       " 'uncommon': 180,\n",
       " 'Syrian-dominated': 181,\n",
       " 'wildly': 182,\n",
       " 'Zanzibar': 183,\n",
       " 'member-nations': 184,\n",
       " 'celebrity': 185,\n",
       " 'MAN': 186,\n",
       " 'plagues': 187,\n",
       " 'surgeries': 188,\n",
       " 'Diyala': 189,\n",
       " 'pricked': 190,\n",
       " 'crapping': 191,\n",
       " 'Pelosi': 192,\n",
       " 'national-level': 193,\n",
       " 'Industries': 194,\n",
       " 'agrochemicals': 195,\n",
       " 'recycling': 196,\n",
       " 'full-range': 197,\n",
       " 'Liberia': 198,\n",
       " 'Turkish-ruled': 199,\n",
       " 'side-by-side': 200,\n",
       " 'hospitalized': 201,\n",
       " 'Hailu': 202,\n",
       " 'Bolivar': 203,\n",
       " 'Restaurant': 204,\n",
       " 'Messi': 205,\n",
       " 'anti-Pyongyang': 206,\n",
       " 'Lindsay': 207,\n",
       " 'tubes': 208,\n",
       " 'farce': 209,\n",
       " 'successful': 210,\n",
       " 'five-million': 211,\n",
       " 'Rains': 212,\n",
       " 'rained': 213,\n",
       " 'lightened': 214,\n",
       " 'five-nation': 215,\n",
       " 'ask': 216,\n",
       " 'publicized': 217,\n",
       " 'absorbs': 218,\n",
       " 'discussions': 219,\n",
       " 'haves': 220,\n",
       " 'unsubstantiated': 221,\n",
       " 'Durand': 222,\n",
       " '1,250': 223,\n",
       " 'doctor': 224,\n",
       " 'Saudia': 225,\n",
       " 'memorable': 226,\n",
       " 'instability': 227,\n",
       " 'Marergur': 228,\n",
       " 'solely': 229,\n",
       " 'Kakar': 230,\n",
       " 'WAFA': 231,\n",
       " 'Said': 232,\n",
       " 'referenda': 233,\n",
       " 'Russia-Austria': 234,\n",
       " '22nd': 235,\n",
       " 'lagging': 236,\n",
       " 'Arrangement': 237,\n",
       " 'Kwame': 238,\n",
       " 'Sukumaran': 239,\n",
       " 'tribe': 240,\n",
       " 'Seven': 241,\n",
       " 'second-': 242,\n",
       " '335': 243,\n",
       " 'Ksusadasi': 244,\n",
       " 'Joachim': 245,\n",
       " 'reaped': 246,\n",
       " 'Command': 247,\n",
       " 'Mujahed': 248,\n",
       " 'fire': 249,\n",
       " 'destination': 250,\n",
       " 'Sarath': 251,\n",
       " 'exploitation': 252,\n",
       " 'nuclear-whistle': 253,\n",
       " 'Ukrainians': 254,\n",
       " 'tells': 255,\n",
       " 'Papahanaumokuakea': 256,\n",
       " 'Bekele': 257,\n",
       " 'Albania': 258,\n",
       " 'Miller': 259,\n",
       " 'Stakic': 260,\n",
       " 'schoolgirl': 261,\n",
       " 'covertly': 262,\n",
       " 'Faras': 263,\n",
       " 'arctic': 264,\n",
       " 'downriver': 265,\n",
       " 'terrorism': 266,\n",
       " 'sworn': 267,\n",
       " 'al-Rawi': 268,\n",
       " 'Derek': 269,\n",
       " '816': 270,\n",
       " 'motel': 271,\n",
       " 'polio': 272,\n",
       " 'instructed': 273,\n",
       " 'fanning': 274,\n",
       " 'laboratory': 275,\n",
       " 'basket': 276,\n",
       " 'Boldak': 277,\n",
       " 'Delray': 278,\n",
       " 'exhumation': 279,\n",
       " 'truck-mounted': 280,\n",
       " 'distasteful': 281,\n",
       " 'abrupt': 282,\n",
       " 'flow': 283,\n",
       " 'exploded': 284,\n",
       " 'Dissident': 285,\n",
       " 'Marcos': 286,\n",
       " 'Envious': 287,\n",
       " 'containers': 288,\n",
       " 'can': 289,\n",
       " 'Mexican': 290,\n",
       " 'electronic': 291,\n",
       " 'Barranquilla': 292,\n",
       " 'creation': 293,\n",
       " 'guerrillas': 294,\n",
       " 'Mercosur': 295,\n",
       " 'accept': 296,\n",
       " 'Annie': 297,\n",
       " 'Department': 298,\n",
       " 'Larrazabal': 299,\n",
       " 'Sources': 300,\n",
       " 'Pamela': 301,\n",
       " 'Gathering': 302,\n",
       " 're-planted': 303,\n",
       " 'interceptors': 304,\n",
       " 'Aleppo': 305,\n",
       " 'Overall': 306,\n",
       " 'pled': 307,\n",
       " 'killers': 308,\n",
       " '463': 309,\n",
       " 'attorney': 310,\n",
       " 'persuaded': 311,\n",
       " 'bomber': 312,\n",
       " 'ANSA': 313,\n",
       " 'assistance': 314,\n",
       " 'gag': 315,\n",
       " 'Explosively': 316,\n",
       " '57,000': 317,\n",
       " 'photos': 318,\n",
       " 'Baziv': 319,\n",
       " 'polls': 320,\n",
       " 'Dixie': 321,\n",
       " 'Nations': 322,\n",
       " 'gasping': 323,\n",
       " 'Daniel': 324,\n",
       " 'Guantanamo': 325,\n",
       " 'hardline': 326,\n",
       " 'Malawai': 327,\n",
       " 'Berkovsky': 328,\n",
       " '1975-to-1990': 329,\n",
       " 'service': 330,\n",
       " 'surges': 331,\n",
       " 'assurances': 332,\n",
       " 'Gronholm': 333,\n",
       " 'courses': 334,\n",
       " 'escalates': 335,\n",
       " 'Adawe': 336,\n",
       " 'Perez': 337,\n",
       " 'record-high': 338,\n",
       " 'realistic': 339,\n",
       " 'unsold': 340,\n",
       " 'longing': 341,\n",
       " 'elected': 342,\n",
       " 'partisans': 343,\n",
       " 'Jabalya': 344,\n",
       " 'opt': 345,\n",
       " 'geologist': 346,\n",
       " 'eyebrow': 347,\n",
       " 'boxing': 348,\n",
       " 'accidental': 349,\n",
       " 'Nel': 350,\n",
       " 'at': 351,\n",
       " 'Baltimore': 352,\n",
       " 'all-Spanish': 353,\n",
       " 'Documents': 354,\n",
       " '\\x97': 355,\n",
       " 'Nkunda': 356,\n",
       " 'comprehend': 357,\n",
       " 'monarchy': 358,\n",
       " 'Longwang': 359,\n",
       " 'Natonski': 360,\n",
       " 'nicotine': 361,\n",
       " 'Protestant': 362,\n",
       " 'Gaza-based': 363,\n",
       " 'SMART': 364,\n",
       " 'staggered': 365,\n",
       " '218-5': 366,\n",
       " 'Shouting': 367,\n",
       " 'Naise': 368,\n",
       " 'Hannah': 369,\n",
       " 'Dhabi': 370,\n",
       " 'sponsors': 371,\n",
       " 'Cyrus': 372,\n",
       " 'Kinshasa': 373,\n",
       " 'celebrates': 374,\n",
       " 'al-Nabaie': 375,\n",
       " 'cutthroat': 376,\n",
       " 'Basic': 377,\n",
       " 'luxuriate': 378,\n",
       " 'Employers': 379,\n",
       " 'helps': 380,\n",
       " 'Dwain': 381,\n",
       " 'Explorer': 382,\n",
       " 'pre-emptively': 383,\n",
       " 'Moscow': 384,\n",
       " 'obesity': 385,\n",
       " 'fiction': 386,\n",
       " 'Retailing': 387,\n",
       " 'Aircraft': 388,\n",
       " 'notify': 389,\n",
       " 'Feb-88': 390,\n",
       " 'village': 391,\n",
       " 'al-Qadi': 392,\n",
       " 'Baath': 393,\n",
       " 'Working': 394,\n",
       " 'defectors': 395,\n",
       " 'thereof': 396,\n",
       " 'hammer': 397,\n",
       " 'drug-fueled': 398,\n",
       " 'Mitofsky': 399,\n",
       " 'invented': 400,\n",
       " '14.7': 401,\n",
       " 'Fahim': 402,\n",
       " 'donor': 403,\n",
       " 'Protected': 404,\n",
       " 'atolls': 405,\n",
       " 'affirmed': 406,\n",
       " 'selection': 407,\n",
       " 'Thae': 408,\n",
       " 'knees': 409,\n",
       " 'jog': 410,\n",
       " 'Thad': 411,\n",
       " 'EU-backed': 412,\n",
       " 'pan-African': 413,\n",
       " 'technically': 414,\n",
       " 'Hariri': 415,\n",
       " 'Lyons': 416,\n",
       " 'Chief': 417,\n",
       " 'revolutions': 418,\n",
       " 'Borys': 419,\n",
       " 'executions': 420,\n",
       " 'explosives-laden': 421,\n",
       " 'surfboard': 422,\n",
       " 'odds': 423,\n",
       " 'Santos': 424,\n",
       " 'Haarde': 425,\n",
       " 'Ahead': 426,\n",
       " 'perhaps': 427,\n",
       " 'burns': 428,\n",
       " 'poles': 429,\n",
       " 'Bjoergen': 430,\n",
       " 'Sunita': 431,\n",
       " 'examines': 432,\n",
       " 'Tiananmen': 433,\n",
       " 'drunken': 434,\n",
       " 'Field': 435,\n",
       " \"Sa'adi\": 436,\n",
       " 'net': 437,\n",
       " 'decades-long': 438,\n",
       " 'saved': 439,\n",
       " 'excused': 440,\n",
       " 'household': 441,\n",
       " 'madrassa': 442,\n",
       " 'wolf': 443,\n",
       " 'Ul-Islam': 444,\n",
       " 'burying': 445,\n",
       " 'Juno': 446,\n",
       " 'Maulana': 447,\n",
       " 'Ruhpolding': 448,\n",
       " 'championed': 449,\n",
       " 'Kohl': 450,\n",
       " 'Thing': 451,\n",
       " 'anniversary': 452,\n",
       " 'sanitary': 453,\n",
       " 'IISS': 454,\n",
       " 'as': 455,\n",
       " 'bat': 456,\n",
       " 'three-vehicle': 457,\n",
       " 'Roadside': 458,\n",
       " 'files': 459,\n",
       " 'disposing': 460,\n",
       " 'televisions': 461,\n",
       " 'Macau': 462,\n",
       " 'CNN': 463,\n",
       " 'storing': 464,\n",
       " 'perchance': 465,\n",
       " 'principality': 466,\n",
       " 'law-and-order': 467,\n",
       " '149': 468,\n",
       " 'survivors': 469,\n",
       " '182': 470,\n",
       " 'civilian-to-civilian': 471,\n",
       " 'quoted': 472,\n",
       " 'gods': 473,\n",
       " 'presidents': 474,\n",
       " 'Rashid': 475,\n",
       " 'underground': 476,\n",
       " 'Rakhmonov': 477,\n",
       " 'simulating': 478,\n",
       " 'Geoff': 479,\n",
       " 'Rating': 480,\n",
       " 'longer': 481,\n",
       " 'examine': 482,\n",
       " 'Gheit': 483,\n",
       " 'Surkh': 484,\n",
       " 'taste': 485,\n",
       " 'banana': 486,\n",
       " 'Pozarevac': 487,\n",
       " 'Liberties': 488,\n",
       " 'mastering': 489,\n",
       " 'day-time': 490,\n",
       " '2.75': 491,\n",
       " 'assessments': 492,\n",
       " 'Kani': 493,\n",
       " 'Bayji': 494,\n",
       " 'Khetaguri': 495,\n",
       " 'unemployment': 496,\n",
       " 'cantons': 497,\n",
       " 'Mikulski': 498,\n",
       " 'Damrey': 499,\n",
       " 'resolves': 500,\n",
       " 'lofty': 501,\n",
       " 'throwing': 502,\n",
       " 'Pingtung': 503,\n",
       " 'Slow': 504,\n",
       " 'hygienic': 505,\n",
       " 'berms': 506,\n",
       " 'Historical': 507,\n",
       " 'priesthood': 508,\n",
       " 'Age': 509,\n",
       " 'verdict': 510,\n",
       " 'fourth-place': 511,\n",
       " 'serpent': 512,\n",
       " 'hashish': 513,\n",
       " 'Pope': 514,\n",
       " 'notoriously': 515,\n",
       " 'beat': 516,\n",
       " 'foment': 517,\n",
       " 'first': 518,\n",
       " 'al-Fahd': 519,\n",
       " 'Entire': 520,\n",
       " 'ripping': 521,\n",
       " 'self-declared': 522,\n",
       " 'Meoni': 523,\n",
       " 'environmentally': 524,\n",
       " '1.9': 525,\n",
       " 'turkeys': 526,\n",
       " 'returning': 527,\n",
       " 'boots': 528,\n",
       " 'lessons': 529,\n",
       " 'Cofer': 530,\n",
       " 'a.m.': 531,\n",
       " '10,00,000': 532,\n",
       " 'Telecom': 533,\n",
       " 'lawyer': 534,\n",
       " 'Miliband': 535,\n",
       " 'Odinga': 536,\n",
       " 'Provisions': 537,\n",
       " 'employment': 538,\n",
       " 'Arabic': 539,\n",
       " 'Chrysler': 540,\n",
       " 'braces': 541,\n",
       " 'marred': 542,\n",
       " 'Berruti': 543,\n",
       " 'hangout': 544,\n",
       " 'Elco': 545,\n",
       " 'involves': 546,\n",
       " 'Zvarych': 547,\n",
       " 'Sixto': 548,\n",
       " 'lbw': 549,\n",
       " 'Jalil': 550,\n",
       " 'England': 551,\n",
       " 'Adriatic': 552,\n",
       " 'emergence': 553,\n",
       " 'Demilitarized': 554,\n",
       " 'Murillo': 555,\n",
       " 'directed': 556,\n",
       " 'complains': 557,\n",
       " 'outbreaks': 558,\n",
       " 'renegotiate': 559,\n",
       " 'slept': 560,\n",
       " 'Weinstein': 561,\n",
       " 'hamstring': 562,\n",
       " 'fourth-seed': 563,\n",
       " 'returned': 564,\n",
       " 'Lewis': 565,\n",
       " 'Implementation': 566,\n",
       " 'office': 567,\n",
       " 'boon': 568,\n",
       " 'downhill': 569,\n",
       " 'tournaments': 570,\n",
       " 'highest-ranking': 571,\n",
       " 'tub': 572,\n",
       " 'considers': 573,\n",
       " 'GDR': 574,\n",
       " 'spilling': 575,\n",
       " 'Reports': 576,\n",
       " 'Ney': 577,\n",
       " '76,000': 578,\n",
       " 'reporters': 579,\n",
       " 'charter': 580,\n",
       " 'Bi-khim': 581,\n",
       " 'Nevirapine': 582,\n",
       " 'Rico': 583,\n",
       " 'creators': 584,\n",
       " 'spiraling': 585,\n",
       " '150-member': 586,\n",
       " 'Poncet': 587,\n",
       " 'flattered': 588,\n",
       " 'scudded': 589,\n",
       " 'campaign-finance': 590,\n",
       " 'then-Georgian': 591,\n",
       " 'exercises': 592,\n",
       " 'blame': 593,\n",
       " 'Villarreal': 594,\n",
       " 'gang-raped': 595,\n",
       " 'expectation': 596,\n",
       " 'counter-proposal': 597,\n",
       " 'three-megaton': 598,\n",
       " 'vowed': 599,\n",
       " 'hanging': 600,\n",
       " 'Agartala': 601,\n",
       " 'season-opening': 602,\n",
       " 'runoffs': 603,\n",
       " 'brewing': 604,\n",
       " 'Akerfeldt': 605,\n",
       " 'lows': 606,\n",
       " 'Gamboa': 607,\n",
       " 'Alcantara': 608,\n",
       " 'Raven': 609,\n",
       " 'co-leader': 610,\n",
       " 'hard': 611,\n",
       " 'Physically': 612,\n",
       " 'delivering': 613,\n",
       " 'Hossam': 614,\n",
       " 'earmarked': 615,\n",
       " 'squandered': 616,\n",
       " 'quashing': 617,\n",
       " 'Damascus-based': 618,\n",
       " 'obtaining': 619,\n",
       " 'Neumann': 620,\n",
       " 'plays': 621,\n",
       " 'structures': 622,\n",
       " 'Swan': 623,\n",
       " 'unmanned': 624,\n",
       " 'Icy': 625,\n",
       " 'bugle': 626,\n",
       " 'Orders': 627,\n",
       " 'first-time': 628,\n",
       " '1,69,000': 629,\n",
       " 'smarter': 630,\n",
       " 'plantations': 631,\n",
       " 'Judaism': 632,\n",
       " 'Rafiqi': 633,\n",
       " 'oust': 634,\n",
       " 'sheet': 635,\n",
       " 'occasional': 636,\n",
       " 'Russert': 637,\n",
       " 'departs': 638,\n",
       " 'Tehrik-e-Taliban': 639,\n",
       " 'Intelogic': 640,\n",
       " 'melange': 641,\n",
       " 'ARISTIDE': 642,\n",
       " 'good-natured': 643,\n",
       " 'Gah': 644,\n",
       " 'CHINCHILLA': 645,\n",
       " 'Besir': 646,\n",
       " 'Justice': 647,\n",
       " 'state-owned': 648,\n",
       " 'person': 649,\n",
       " 'beset': 650,\n",
       " 'estimating': 651,\n",
       " 'Hamdi': 652,\n",
       " 'deal': 653,\n",
       " 'coast': 654,\n",
       " '7000-member': 655,\n",
       " '64th': 656,\n",
       " 'isle': 657,\n",
       " 'state-orchestrated': 658,\n",
       " 'casket': 659,\n",
       " 'Moorish': 660,\n",
       " 'conditioned': 661,\n",
       " 'Rudd': 662,\n",
       " 'defaced': 663,\n",
       " '60-day': 664,\n",
       " 'Ventures': 665,\n",
       " 'streak': 666,\n",
       " 'Mayon': 667,\n",
       " '02-Feb': 668,\n",
       " 'Verbeke': 669,\n",
       " 'Hausas': 670,\n",
       " 'measures': 671,\n",
       " 'deployments': 672,\n",
       " 'vertical': 673,\n",
       " 'Western-backed': 674,\n",
       " 'of': 675,\n",
       " 'four-nation': 676,\n",
       " 'faxed': 677,\n",
       " 'Specialist': 678,\n",
       " 'Indonesia': 679,\n",
       " 'finest': 680,\n",
       " 'Sisco': 681,\n",
       " 'helpless': 682,\n",
       " 'pearl': 683,\n",
       " 'fuel-pump': 684,\n",
       " 'Leasing': 685,\n",
       " 'statues': 686,\n",
       " 'Home': 687,\n",
       " 'proved': 688,\n",
       " 'buyers': 689,\n",
       " 'Araft': 690,\n",
       " 'grow': 691,\n",
       " 'ever': 692,\n",
       " '650-million': 693,\n",
       " 'Ankunda': 694,\n",
       " 'nevirapine': 695,\n",
       " 'welcometousa.gov': 696,\n",
       " '196': 697,\n",
       " 'life-bearing': 698,\n",
       " 'Crusaders': 699,\n",
       " 'Gikoro': 700,\n",
       " 'underestimate': 701,\n",
       " 'helipad': 702,\n",
       " 'weaken': 703,\n",
       " '0.02': 704,\n",
       " 'four-decade-long': 705,\n",
       " 'Earth-orbiting': 706,\n",
       " 'accustomed': 707,\n",
       " 'dig': 708,\n",
       " 'resolution': 709,\n",
       " 'us': 710,\n",
       " 'Oscar': 711,\n",
       " 'Ovcara': 712,\n",
       " 'credentials': 713,\n",
       " 'tight': 714,\n",
       " 'shoot': 715,\n",
       " 'Families': 716,\n",
       " 'intra-Palestinian': 717,\n",
       " 'Twitter': 718,\n",
       " 'season-ending': 719,\n",
       " 'capitalization': 720,\n",
       " 'flyway': 721,\n",
       " 'skullcaps': 722,\n",
       " 'Grenoble': 723,\n",
       " 'Montiel': 724,\n",
       " 'co-principality': 725,\n",
       " 'bury': 726,\n",
       " 'masses': 727,\n",
       " 'Zamir': 728,\n",
       " 'pro-Western': 729,\n",
       " 'Falu': 730,\n",
       " 'C-130': 731,\n",
       " 'alerted': 732,\n",
       " 'aid': 733,\n",
       " 'Six-nation': 734,\n",
       " 'Quake': 735,\n",
       " 'upswing': 736,\n",
       " 'lapsed': 737,\n",
       " 'stone': 738,\n",
       " 'fly': 739,\n",
       " 'Xinmiao': 740,\n",
       " 'riots': 741,\n",
       " 'liner': 742,\n",
       " 'Philippines': 743,\n",
       " 'Gabon': 744,\n",
       " 'are': 745,\n",
       " 'Stephen': 746,\n",
       " 'Piano': 747,\n",
       " 'glides': 748,\n",
       " '19th': 749,\n",
       " 'memo': 750,\n",
       " 'Freivalds': 751,\n",
       " 'perching': 752,\n",
       " 'Shilpa': 753,\n",
       " 'Malwiya': 754,\n",
       " 'Hamdania': 755,\n",
       " 'policing': 756,\n",
       " 'Kramer': 757,\n",
       " 'Africa': 758,\n",
       " 'JAMA': 759,\n",
       " 'Messenger': 760,\n",
       " 'Performing': 761,\n",
       " 'Sadeh': 762,\n",
       " 'Meckfessel': 763,\n",
       " 'militarily': 764,\n",
       " 'feathers': 765,\n",
       " 'slate': 766,\n",
       " 'Baramullah': 767,\n",
       " 'ratify': 768,\n",
       " 'Want': 769,\n",
       " 'twigs': 770,\n",
       " 'accomplishments': 771,\n",
       " 'threw': 772,\n",
       " 'moods': 773,\n",
       " 'four-sets': 774,\n",
       " 'Karasu': 775,\n",
       " 'Sidique': 776,\n",
       " 'Apure': 777,\n",
       " 'Augustin': 778,\n",
       " 'Forty~three': 779,\n",
       " '18th': 780,\n",
       " 'Alpha': 781,\n",
       " 'suits': 782,\n",
       " 'Janez': 783,\n",
       " 'completely': 784,\n",
       " 'flashpoint': 785,\n",
       " 'Samples': 786,\n",
       " 'shrinks': 787,\n",
       " 'Osuji': 788,\n",
       " 'celebrating': 789,\n",
       " 'Hamidzada': 790,\n",
       " 'machining': 791,\n",
       " 'Barrett': 792,\n",
       " 'clearance': 793,\n",
       " 'chapter': 794,\n",
       " 'health-care': 795,\n",
       " 'Gallup': 796,\n",
       " 'faulted': 797,\n",
       " 'orientation': 798,\n",
       " 'Dahomey': 799,\n",
       " 'Debt': 800,\n",
       " 'pieces': 801,\n",
       " 'surged': 802,\n",
       " 'five-story': 803,\n",
       " 'Repsol': 804,\n",
       " 'vomit': 805,\n",
       " 'Corp.': 806,\n",
       " 'salvaging': 807,\n",
       " '1.1': 808,\n",
       " 'triggering': 809,\n",
       " 'Deputies': 810,\n",
       " 'Money': 811,\n",
       " 'Dissostichus': 812,\n",
       " 'uneven': 813,\n",
       " 'nuclear-capable': 814,\n",
       " '64.97': 815,\n",
       " 'Mint': 816,\n",
       " 'dignitaries': 817,\n",
       " 'Mahmoud': 818,\n",
       " 'spades': 819,\n",
       " 'pedophilia': 820,\n",
       " 'shoddy': 821,\n",
       " 'DIA': 822,\n",
       " 'Ellen': 823,\n",
       " '994': 824,\n",
       " 'heat': 825,\n",
       " 'Samie': 826,\n",
       " 'grounding': 827,\n",
       " 'Flores': 828,\n",
       " 'escapes': 829,\n",
       " 'Salehi': 830,\n",
       " 'Significant': 831,\n",
       " 'Jomo': 832,\n",
       " 'Pacheco': 833,\n",
       " 'San': 834,\n",
       " 'sub-Saharan': 835,\n",
       " 'FATHER': 836,\n",
       " 'one-storey': 837,\n",
       " 'worded': 838,\n",
       " 'Korean-flagged': 839,\n",
       " 'Best': 840,\n",
       " 'formula': 841,\n",
       " 'factories': 842,\n",
       " 'arguing': 843,\n",
       " 'Shawn': 844,\n",
       " 'indiscretion': 845,\n",
       " 'radiation': 846,\n",
       " 'organizing': 847,\n",
       " 'Suharto': 848,\n",
       " 'Capping': 849,\n",
       " 'skimming': 850,\n",
       " 'Vera': 851,\n",
       " 'Skier': 852,\n",
       " '140-kilometers': 853,\n",
       " 'contradictory': 854,\n",
       " 'brain': 855,\n",
       " 'Schoomaker': 856,\n",
       " 'SALIH': 857,\n",
       " 'famous': 858,\n",
       " 'avenging': 859,\n",
       " 'QARASE': 860,\n",
       " 'screens': 861,\n",
       " 'Olusegan': 862,\n",
       " 'Bengal': 863,\n",
       " 'lucky': 864,\n",
       " 'ar-Rutbah': 865,\n",
       " 'play': 866,\n",
       " 'treason': 867,\n",
       " 'industries': 868,\n",
       " 'lunch': 869,\n",
       " 'Bradford': 870,\n",
       " 'volunteers': 871,\n",
       " 'observing': 872,\n",
       " 'Hopes': 873,\n",
       " 'Wolong': 874,\n",
       " 'Present': 875,\n",
       " 'Unocal-Chevron': 876,\n",
       " 'Workers': 877,\n",
       " 'Fattal': 878,\n",
       " '2,17,000': 879,\n",
       " 'demands': 880,\n",
       " 'stand-by': 881,\n",
       " 'Moss': 882,\n",
       " 'Lubroth': 883,\n",
       " 'Breast': 884,\n",
       " 'simply': 885,\n",
       " 'September': 886,\n",
       " 'Batlle': 887,\n",
       " 'currents': 888,\n",
       " 'Woody': 889,\n",
       " 'examples': 890,\n",
       " 'other': 891,\n",
       " 'cough': 892,\n",
       " 'seasonally': 893,\n",
       " 'communications': 894,\n",
       " 'strains': 895,\n",
       " 'Doetinchem': 896,\n",
       " 'refrained': 897,\n",
       " 'outlandish': 898,\n",
       " 'Mamoun': 899,\n",
       " 'three-and-one-half': 900,\n",
       " 'Curtailing': 901,\n",
       " 'centraql': 902,\n",
       " 'nominal': 903,\n",
       " 'rightful': 904,\n",
       " 'belonged': 905,\n",
       " 'sample': 906,\n",
       " 'Dong': 907,\n",
       " '8,700': 908,\n",
       " 'Adamkus': 909,\n",
       " 'Sajedinia': 910,\n",
       " 'golden': 911,\n",
       " 'Suli': 912,\n",
       " 'lamp': 913,\n",
       " 'damsel': 914,\n",
       " 'longstanding': 915,\n",
       " 'Sherwan': 916,\n",
       " '85-years-old': 917,\n",
       " 'lasting': 918,\n",
       " 'AGOA': 919,\n",
       " 'Kremlin': 920,\n",
       " 'network': 921,\n",
       " 'sounds': 922,\n",
       " 'TTF': 923,\n",
       " 'dominating': 924,\n",
       " 'Arab-dominated': 925,\n",
       " 'cigarette': 926,\n",
       " 'incomplete': 927,\n",
       " 'superabundant': 928,\n",
       " 'violence': 929,\n",
       " 'doors': 930,\n",
       " 'Sectarian': 931,\n",
       " 'Ant': 932,\n",
       " 'predator': 933,\n",
       " 'statesmen': 934,\n",
       " 'wonder': 935,\n",
       " 'Gate': 936,\n",
       " 'Dunham': 937,\n",
       " 'Escamilla': 938,\n",
       " 'Soprano': 939,\n",
       " 'third-ranked': 940,\n",
       " 'Missiles': 941,\n",
       " 'exporting': 942,\n",
       " 'unwarranted': 943,\n",
       " 'then-president': 944,\n",
       " 'disapproval': 945,\n",
       " 'Heriberto': 946,\n",
       " 'questionnaire': 947,\n",
       " 'Influenced': 948,\n",
       " 'correspondent': 949,\n",
       " 'Khamenei': 950,\n",
       " 'actual': 951,\n",
       " 'wed': 952,\n",
       " 'ITV': 953,\n",
       " 'capitol': 954,\n",
       " 'notification': 955,\n",
       " '9.3': 956,\n",
       " 'amnesty': 957,\n",
       " 'onshore': 958,\n",
       " 'Holding': 959,\n",
       " 'Bart': 960,\n",
       " 'H': 961,\n",
       " 'Mitsumi': 962,\n",
       " '12,049': 963,\n",
       " '1948': 964,\n",
       " 'Sistan-Baluchistan': 965,\n",
       " 'Primakov': 966,\n",
       " 'so-called': 967,\n",
       " 'Zuhair': 968,\n",
       " 'deploys': 969,\n",
       " 'Anwarul': 970,\n",
       " 'exacerbating': 971,\n",
       " 'Alberto': 972,\n",
       " 'grenades': 973,\n",
       " 'Bachata': 974,\n",
       " 'Papillon': 975,\n",
       " 'Siddiqi': 976,\n",
       " 'target': 977,\n",
       " 'Fratto': 978,\n",
       " 'finalizes': 979,\n",
       " 'welfare': 980,\n",
       " 'Laila': 981,\n",
       " 'Magyarization': 982,\n",
       " '1,64,000': 983,\n",
       " 'Transylvania': 984,\n",
       " 'energy': 985,\n",
       " 'straw': 986,\n",
       " 'seasonal': 987,\n",
       " 'regulate': 988,\n",
       " 'CBS': 989,\n",
       " 'Kandili': 990,\n",
       " 'overruled': 991,\n",
       " 'liberation': 992,\n",
       " 'flipped': 993,\n",
       " 'Doboj': 994,\n",
       " 'Opportunity': 995,\n",
       " 'Widhoelzl': 996,\n",
       " 'co-chaired': 997,\n",
       " 'Reporters': 998,\n",
       " 'fast-growing': 999,\n",
       " 'Hewlett-Packard': 1000,\n",
       " ...}"
      ]
     },
     "execution_count": 12,
     "metadata": {},
     "output_type": "execute_result"
    }
   ],
   "source": [
    "word2idx"
   ]
  },
  {
   "cell_type": "code",
   "execution_count": 13,
   "metadata": {
    "execution": {
     "iopub.execute_input": "2021-07-24T19:27:15.345902Z",
     "iopub.status.busy": "2021-07-24T19:27:15.345498Z",
     "iopub.status.idle": "2021-07-24T19:27:15.352191Z",
     "shell.execute_reply": "2021-07-24T19:27:15.351143Z",
     "shell.execute_reply.started": "2021-07-24T19:27:15.345861Z"
    }
   },
   "outputs": [
    {
     "data": {
      "text/plain": [
       "{'I-nat': 0,\n",
       " 'B-gpe': 1,\n",
       " 'B-geo': 2,\n",
       " 'I-tim': 3,\n",
       " 'B-per': 4,\n",
       " 'B-org': 5,\n",
       " 'I-gpe': 6,\n",
       " 'B-nat': 7,\n",
       " 'I-per': 8,\n",
       " 'B-tim': 9,\n",
       " 'O': 10,\n",
       " 'I-art': 11,\n",
       " 'I-eve': 12,\n",
       " 'B-art': 13,\n",
       " 'B-eve': 14,\n",
       " 'I-org': 15,\n",
       " 'I-geo': 16}"
      ]
     },
     "execution_count": 13,
     "metadata": {},
     "output_type": "execute_result"
    }
   ],
   "source": [
    "tag2idx"
   ]
  },
  {
   "cell_type": "code",
   "execution_count": 14,
   "metadata": {
    "execution": {
     "iopub.execute_input": "2021-07-24T19:27:15.354475Z",
     "iopub.status.busy": "2021-07-24T19:27:15.354059Z",
     "iopub.status.idle": "2021-07-24T19:27:15.907389Z",
     "shell.execute_reply": "2021-07-24T19:27:15.906561Z",
     "shell.execute_reply.started": "2021-07-24T19:27:15.354435Z"
    }
   },
   "outputs": [
    {
     "data": {
      "image/png": "[encoded data removed]",
      "text/plain": [
       "<Figure size 720x360 with 1 Axes>"
      ]
     },
     "metadata": {},
     "output_type": "display_data"
    }
   ],
   "source": [
    "plt.figure(figsize = (10, 5))\n",
    "plt.hist([len(s) for s in sentences], color = 'red', label = 'max_len', bins = 50)\n",
    "plt.title('MAX LENGTH OF SENTENCE',fontsize = 15)\n",
    "plt.xlabel('LENGTH', fontsize = 15)\n",
    "plt.legend(fontsize = 15)\n",
    "plt.show()"
   ]
  },
  {
   "cell_type": "markdown",
   "metadata": {},
   "source": [
    "- HERE WE CAN SEE THAT THE MAX LENGTH REACHES 60"
   ]
  },
  {
   "cell_type": "markdown",
   "metadata": {},
   "source": [
    "### PADDING WORDS AND TAGS:"
   ]
  },
  {
   "cell_type": "code",
   "execution_count": 15,
   "metadata": {
    "execution": {
     "iopub.execute_input": "2021-07-24T19:27:15.909188Z",
     "iopub.status.busy": "2021-07-24T19:27:15.908793Z",
     "iopub.status.idle": "2021-07-24T19:27:21.304853Z",
     "shell.execute_reply": "2021-07-24T19:27:21.303898Z",
     "shell.execute_reply.started": "2021-07-24T19:27:15.909147Z"
    }
   },
   "outputs": [],
   "source": [
    "from tensorflow import keras\n",
    "from tensorflow.keras.preprocessing.sequence import pad_sequences\n",
    "from tensorflow.keras.utils import to_categorical"
   ]
  },
  {
   "cell_type": "code",
   "execution_count": 16,
   "metadata": {
    "execution": {
     "iopub.execute_input": "2021-07-24T19:27:21.306499Z",
     "iopub.status.busy": "2021-07-24T19:27:21.306186Z",
     "iopub.status.idle": "2021-07-24T19:27:23.738440Z",
     "shell.execute_reply": "2021-07-24T19:27:23.737400Z",
     "shell.execute_reply.started": "2021-07-24T19:27:21.306468Z"
    }
   },
   "outputs": [],
   "source": [
    "max_len = 60\n",
    "X = [[word2idx[w[0]] for w in s] for s in sentences]\n",
    "X = pad_sequences(X, maxlen = max_len, padding = 'post', value = num_words - 1)\n",
    "y = [[tag2idx[t[1]] for t in s] for s in sentences]\n",
    "y = pad_sequences(y, maxlen = max_len, padding = 'post', value = tag2idx['O'])\n",
    "y = [to_categorical(i, num_classes = n_tags) for i in y]"
   ]
  },
  {
   "cell_type": "markdown",
   "metadata": {},
   "source": [
    "### SPLITTING THE DATA FOR TRAINING AND TESTING:"
   ]
  },
  {
   "cell_type": "code",
   "execution_count": 17,
   "metadata": {
    "execution": {
     "iopub.execute_input": "2021-07-24T19:27:23.739730Z",
     "iopub.status.busy": "2021-07-24T19:27:23.739459Z",
     "iopub.status.idle": "2021-07-24T19:27:23.920470Z",
     "shell.execute_reply": "2021-07-24T19:27:23.919382Z",
     "shell.execute_reply.started": "2021-07-24T19:27:23.739704Z"
    }
   },
   "outputs": [],
   "source": [
    "from sklearn.model_selection import train_test_split\n",
    "X_train, X_test, y_train, y_test = train_test_split(X, y, test_size = 0.2, random_state = 44)"
   ]
  },
  {
   "cell_type": "code",
   "execution_count": 18,
   "metadata": {
    "execution": {
     "iopub.execute_input": "2021-07-24T19:27:23.921822Z",
     "iopub.status.busy": "2021-07-24T19:27:23.921563Z",
     "iopub.status.idle": "2021-07-24T19:27:23.926554Z",
     "shell.execute_reply": "2021-07-24T19:27:23.925937Z",
     "shell.execute_reply.started": "2021-07-24T19:27:23.921780Z"
    }
   },
   "outputs": [
    {
     "data": {
      "text/plain": [
       "((38367, 60), (9592, 60))"
      ]
     },
     "execution_count": 18,
     "metadata": {},
     "output_type": "execute_result"
    }
   ],
   "source": [
    "X_train.shape, X_test.shape"
   ]
  },
  {
   "cell_type": "code",
   "execution_count": 19,
   "metadata": {
    "execution": {
     "iopub.execute_input": "2021-07-24T19:27:23.927954Z",
     "iopub.status.busy": "2021-07-24T19:27:23.927517Z",
     "iopub.status.idle": "2021-07-24T19:27:23.939883Z",
     "shell.execute_reply": "2021-07-24T19:27:23.939024Z",
     "shell.execute_reply.started": "2021-07-24T19:27:23.927915Z"
    }
   },
   "outputs": [
    {
     "name": "stdout",
     "output_type": "stream",
     "text": [
      "38367 9592\n"
     ]
    }
   ],
   "source": [
    "print(len(y_train), len(y_test))"
   ]
  },
  {
   "cell_type": "markdown",
   "metadata": {},
   "source": [
    "### DEFINING BI-LSTM:"
   ]
  },
  {
   "cell_type": "code",
   "execution_count": 20,
   "metadata": {
    "execution": {
     "iopub.execute_input": "2021-07-24T19:27:23.941398Z",
     "iopub.status.busy": "2021-07-24T19:27:23.941119Z",
     "iopub.status.idle": "2021-07-24T19:27:23.950604Z",
     "shell.execute_reply": "2021-07-24T19:27:23.949771Z",
     "shell.execute_reply.started": "2021-07-24T19:27:23.941371Z"
    }
   },
   "outputs": [],
   "source": [
    "input_dim = num_words + 1 #model.fit() iterates through the input with the range(0:35178). Thus we are adding 1 to fullfil the range(0:35179).\n",
    "output_dim = max_len\n",
    "input_length = max_len"
   ]
  },
  {
   "cell_type": "code",
   "execution_count": 21,
   "metadata": {
    "execution": {
     "iopub.execute_input": "2021-07-24T19:27:23.952117Z",
     "iopub.status.busy": "2021-07-24T19:27:23.951755Z",
     "iopub.status.idle": "2021-07-24T19:27:23.964719Z",
     "shell.execute_reply": "2021-07-24T19:27:23.963894Z",
     "shell.execute_reply.started": "2021-07-24T19:27:23.952090Z"
    }
   },
   "outputs": [
    {
     "data": {
      "text/plain": [
       "(35169, 60, 60)"
      ]
     },
     "execution_count": 21,
     "metadata": {},
     "output_type": "execute_result"
    }
   ],
   "source": [
    "input_dim, output_dim, input_length"
   ]
  },
  {
   "cell_type": "code",
   "execution_count": 22,
   "metadata": {
    "execution": {
     "iopub.execute_input": "2021-07-24T19:27:23.966358Z",
     "iopub.status.busy": "2021-07-24T19:27:23.965982Z",
     "iopub.status.idle": "2021-07-24T19:27:23.974171Z",
     "shell.execute_reply": "2021-07-24T19:27:23.973528Z",
     "shell.execute_reply.started": "2021-07-24T19:27:23.966328Z"
    }
   },
   "outputs": [],
   "source": [
    "from tensorflow.keras import Model, Sequential, Input\n",
    "from tensorflow.keras.layers import Embedding, Dense, LSTM\n",
    "from tensorflow.keras.layers import Bidirectional, TimeDistributed, SpatialDropout1D"
   ]
  },
  {
   "cell_type": "code",
   "execution_count": 23,
   "metadata": {
    "execution": {
     "iopub.execute_input": "2021-07-24T19:27:23.977502Z",
     "iopub.status.busy": "2021-07-24T19:27:23.976994Z",
     "iopub.status.idle": "2021-07-24T19:27:24.387222Z",
     "shell.execute_reply": "2021-07-24T19:27:24.386579Z",
     "shell.execute_reply.started": "2021-07-24T19:27:23.977473Z"
    }
   },
   "outputs": [
    {
     "name": "stdout",
     "output_type": "stream",
     "text": [
      "Model: \"sequential\"\n",
      "_________________________________________________________________\n",
      " Layer (type)                Output Shape              Param #   \n",
      "=================================================================\n",
      " embedding (Embedding)       (None, 60, 60)            2110140   \n",
      "                                                                 \n",
      " spatial_dropout1d (SpatialD  (None, 60, 60)           0         \n",
      " ropout1D)                                                       \n",
      "                                                                 \n",
      " bidirectional (Bidirectiona  (None, 60, 200)          128800    \n",
      " l)                                                              \n",
      "                                                                 \n",
      " time_distributed (TimeDistr  (None, 60, 17)           3417      \n",
      " ibuted)                                                         \n",
      "                                                                 \n",
      "=================================================================\n",
      "Total params: 2,242,357\n",
      "Trainable params: 2,242,357\n",
      "Non-trainable params: 0\n",
      "_________________________________________________________________\n"
     ]
    }
   ],
   "source": [
    "model = Sequential()\n",
    "\n",
    "model.add(Embedding(input_dim = input_dim, output_dim = output_dim, input_length = input_length))\n",
    "\n",
    "model.add(SpatialDropout1D(0.1))\n",
    "\n",
    "model.add(Bidirectional(LSTM(units = 100, recurrent_dropout = 0.1, return_sequences = True)))\n",
    "\n",
    "model.add(TimeDistributed(Dense(units = n_tags, activation = 'softmax')))\n",
    "\n",
    "model.compile(optimizer = 'adam', loss = 'categorical_crossentropy', metrics = ['accuracy'])\n",
    "\n",
    "model.summary()"
   ]
  },
  {
   "cell_type": "code",
   "execution_count": 24,
   "metadata": {
    "execution": {
     "iopub.execute_input": "2021-07-24T19:34:32.765678Z",
     "iopub.status.busy": "2021-07-24T19:34:32.765289Z",
     "iopub.status.idle": "2021-07-24T19:47:54.157803Z",
     "shell.execute_reply": "2021-07-24T19:47:54.156861Z",
     "shell.execute_reply.started": "2021-07-24T19:34:32.765642Z"
    }
   },
   "outputs": [
    {
     "name": "stdout",
     "output_type": "stream",
     "text": [
      "Epoch 1/10\n",
      "1080/1080 [==============================] - 109s 98ms/step - loss: 0.1580 - accuracy: 0.9644 - val_loss: 0.0530 - val_accuracy: 0.9846\n",
      "Epoch 2/10\n",
      "1080/1080 [==============================] - 125s 116ms/step - loss: 0.0435 - accuracy: 0.9872 - val_loss: 0.0409 - val_accuracy: 0.9878\n",
      "Epoch 3/10\n",
      "1080/1080 [==============================] - 125s 115ms/step - loss: 0.0314 - accuracy: 0.9905 - val_loss: 0.0386 - val_accuracy: 0.9884\n",
      "Epoch 4/10\n",
      "1080/1080 [==============================] - 123s 114ms/step - loss: 0.0256 - accuracy: 0.9920 - val_loss: 0.0396 - val_accuracy: 0.9881\n",
      "Epoch 5/10\n",
      "1080/1080 [==============================] - ETA: 0s - loss: 0.0220 - accuracy: 0.9930Restoring model weights from the end of the best epoch: 3.\n",
      "1080/1080 [==============================] - 116s 107ms/step - loss: 0.0220 - accuracy: 0.9930 - val_loss: 0.0406 - val_accuracy: 0.9882\n",
      "Epoch 5: early stopping\n"
     ]
    }
   ],
   "source": [
    "from tensorflow.keras.callbacks import EarlyStopping\n",
    "\n",
    "callbacks = EarlyStopping(monitor = 'val_accuracy', patience = 2, verbose = 1, mode = 'max', restore_best_weights = True)\n",
    "\n",
    "history = model.fit(X_train, np.array(y_train), batch_size = 32, validation_split = 0.1, epochs = 10, callbacks = callbacks, verbose = 1)"
   ]
  },
  {
   "cell_type": "code",
   "execution_count": 25,
   "metadata": {
    "execution": {
     "iopub.execute_input": "2021-07-24T19:48:13.830167Z",
     "iopub.status.busy": "2021-07-24T19:48:13.829826Z",
     "iopub.status.idle": "2021-07-24T19:48:13.894305Z",
     "shell.execute_reply": "2021-07-24T19:48:13.893413Z",
     "shell.execute_reply.started": "2021-07-24T19:48:13.830137Z"
    }
   },
   "outputs": [],
   "source": [
    "model.save('./NER_MODEL_KAGGLE.h5')"
   ]
  },
  {
   "cell_type": "code",
   "execution_count": 26,
   "metadata": {
    "execution": {
     "iopub.execute_input": "2021-07-24T19:48:30.875737Z",
     "iopub.status.busy": "2021-07-24T19:48:30.875313Z",
     "iopub.status.idle": "2021-07-24T19:48:36.649363Z",
     "shell.execute_reply": "2021-07-24T19:48:36.648481Z",
     "shell.execute_reply.started": "2021-07-24T19:48:30.875706Z"
    }
   },
   "outputs": [
    {
     "name": "stdout",
     "output_type": "stream",
     "text": [
      "300/300 [==============================] - 5s 16ms/step - loss: 0.0409 - accuracy: 0.9878\n"
     ]
    },
    {
     "data": {
      "text/plain": [
       "[0.04094551131129265, 0.9877867102622986]"
      ]
     },
     "execution_count": 26,
     "metadata": {},
     "output_type": "execute_result"
    }
   ],
   "source": [
    "model.evaluate(X_test, np.array(y_test))"
   ]
  },
  {
   "cell_type": "markdown",
   "metadata": {},
   "source": [
    "### ACCURACY AND LOSS OF THE MODEL:"
   ]
  },
  {
   "cell_type": "code",
   "execution_count": 27,
   "metadata": {
    "execution": {
     "iopub.execute_input": "2021-07-24T19:48:43.212087Z",
     "iopub.status.busy": "2021-07-24T19:48:43.211727Z",
     "iopub.status.idle": "2021-07-24T19:48:43.417184Z",
     "shell.execute_reply": "2021-07-24T19:48:43.416214Z",
     "shell.execute_reply.started": "2021-07-24T19:48:43.212054Z"
    }
   },
   "outputs": [
    {
     "data": {
      "text/plain": [
       "Text(0.5, 1.0, 'Accuracy Curves')"
      ]
     },
     "execution_count": 27,
     "metadata": {},
     "output_type": "execute_result"
    },
    {
     "data": {
      "image/png": "[encoded data removed]",
      "text/plain": [
       "<Figure size 576x432 with 1 Axes>"
      ]
     },
     "metadata": {},
     "output_type": "display_data"
    }
   ],
   "source": [
    "plt.figure(figsize=[8,6])\n",
    "plt.plot(history.history['accuracy'],'r',linewidth=3.0)\n",
    "plt.plot(history.history['val_accuracy'],'g',linewidth=3.0)\n",
    "plt.legend(['Training Accuracy', 'Validation Accuracy'],fontsize=18)\n",
    "plt.xlabel('Epochs ',fontsize=16)\n",
    "plt.ylabel('Accuracy',fontsize=16)\n",
    "plt.title('Accuracy Curves',fontsize=16)"
   ]
  },
  {
   "cell_type": "code",
   "execution_count": 28,
   "metadata": {
    "execution": {
     "iopub.execute_input": "2021-07-24T19:48:51.588311Z",
     "iopub.status.busy": "2021-07-24T19:48:51.587939Z",
     "iopub.status.idle": "2021-07-24T19:48:51.794279Z",
     "shell.execute_reply": "2021-07-24T19:48:51.793572Z",
     "shell.execute_reply.started": "2021-07-24T19:48:51.588279Z"
    }
   },
   "outputs": [
    {
     "data": {
      "text/plain": [
       "Text(0.5, 1.0, 'Loss Curves')"
      ]
     },
     "execution_count": 28,
     "metadata": {},
     "output_type": "execute_result"
    },
    {
     "data": {
      "image/png": "[encoded data removed]",
      "text/plain": [
       "<Figure size 576x432 with 1 Axes>"
      ]
     },
     "metadata": {},
     "output_type": "display_data"
    }
   ],
   "source": [
    "plt.figure(figsize=[8,6])\n",
    "plt.plot(history.history['loss'],'r',linewidth=3.0)\n",
    "plt.plot(history.history['val_loss'],'g',linewidth=3.0)\n",
    "plt.legend(['Training loss', 'Validation Loss'],fontsize=18)\n",
    "plt.xlabel('Epochs ',fontsize=16)\n",
    "plt.ylabel('Loss',fontsize=16)\n",
    "plt.title('Loss Curves',fontsize=16)"
   ]
  },
  {
   "cell_type": "markdown",
   "metadata": {},
   "source": [
    "### TESTING THE NER MODEL:"
   ]
  },
  {
   "cell_type": "code",
   "execution_count": 29,
   "metadata": {
    "execution": {
     "iopub.execute_input": "2021-07-24T19:49:03.711952Z",
     "iopub.status.busy": "2021-07-24T19:49:03.711584Z",
     "iopub.status.idle": "2021-07-24T19:49:03.816947Z",
     "shell.execute_reply": "2021-07-24T19:49:03.814368Z",
     "shell.execute_reply.started": "2021-07-24T19:49:03.711924Z"
    }
   },
   "outputs": [
    {
     "name": "stdout",
     "output_type": "stream",
     "text": [
      "Word           True \t Pred \n",
      "\n",
      "------------------------------\n",
      "He             O\tO\n",
      "has            O\tO\n",
      "pleaded        O\tO\n",
      "not            O\tO\n",
      "guilty         O\tO\n",
      "to             O\tO\n",
      "all            O\tO\n",
      "of             O\tO\n",
      "the            O\tO\n",
      "charges        O\tO\n",
      "from           O\tO\n",
      "the            O\tO\n",
      "Tanzania-based O\tO\n",
      "court          O\tO\n",
      ".              O\tO\n",
      "U.N.-brokered  O\tO\n",
      "U.N.-brokered  O\tO\n",
      "U.N.-brokered  O\tO\n",
      "U.N.-brokered  O\tO\n",
      "U.N.-brokered  O\tO\n",
      "U.N.-brokered  O\tO\n",
      "U.N.-brokered  O\tO\n",
      "U.N.-brokered  O\tO\n",
      "U.N.-brokered  O\tO\n",
      "U.N.-brokered  O\tO\n",
      "U.N.-brokered  O\tO\n",
      "U.N.-brokered  O\tO\n",
      "U.N.-brokered  O\tO\n",
      "U.N.-brokered  O\tO\n",
      "U.N.-brokered  O\tO\n",
      "U.N.-brokered  O\tO\n",
      "U.N.-brokered  O\tO\n",
      "U.N.-brokered  O\tO\n",
      "U.N.-brokered  O\tO\n",
      "U.N.-brokered  O\tO\n",
      "U.N.-brokered  O\tO\n",
      "U.N.-brokered  O\tO\n",
      "U.N.-brokered  O\tO\n",
      "U.N.-brokered  O\tO\n",
      "U.N.-brokered  O\tO\n",
      "U.N.-brokered  O\tO\n",
      "U.N.-brokered  O\tO\n",
      "U.N.-brokered  O\tO\n",
      "U.N.-brokered  O\tO\n",
      "U.N.-brokered  O\tO\n",
      "U.N.-brokered  O\tO\n",
      "U.N.-brokered  O\tO\n",
      "U.N.-brokered  O\tO\n",
      "U.N.-brokered  O\tO\n",
      "U.N.-brokered  O\tO\n",
      "U.N.-brokered  O\tO\n",
      "U.N.-brokered  O\tO\n",
      "U.N.-brokered  O\tO\n",
      "U.N.-brokered  O\tO\n",
      "U.N.-brokered  O\tO\n",
      "U.N.-brokered  O\tO\n",
      "U.N.-brokered  O\tO\n",
      "U.N.-brokered  O\tO\n",
      "U.N.-brokered  O\tO\n",
      "U.N.-brokered  O\tO\n"
     ]
    }
   ],
   "source": [
    "i = np.random.randint(0,X_test.shape[0])\n",
    "p = model.predict(np.array([X_test[i]]))\n",
    "p = np.argmax(p, axis =-1)\n",
    "y_true = np.argmax(np.array(y_test), axis =-1)[i]\n",
    "print(\"{:15}{:5}\\t {} \\n\".format(\"Word\",\"True\",\"Pred\"))\n",
    "print(\"-\"*30)\n",
    "for w,true,pred in zip(X_test[i],y_true,p[0]):\n",
    "    print(\"{:15}{}\\t{}\".format(words[w-1],tags[true],tags[pred]))"
   ]
  },
  {
   "cell_type": "code",
   "execution_count": 33,
   "metadata": {},
   "outputs": [],
   "source": [
    "from future.utils import iteritems\n",
    "tags = list(set(data[\"Tag\"].values))\n",
    "number_tags = len(tags)\n",
    "\n",
    "tag2idx = {t: i+1 for i, t in enumerate(tags)}\n",
    "idx2tag = {i: w for w, i in iteritems(tag2idx)}"
   ]
  },
  {
   "cell_type": "code",
   "execution_count": 40,
   "metadata": {},
   "outputs": [
    {
     "name": "stdout",
     "output_type": "stream",
     "text": [
      "              precision    recall  f1-score   support\n",
      "\n",
      "       I-nat       0.95      0.94      0.95      3160\n",
      "       B-gpe       0.85      0.88      0.87      7550\n",
      "       B-geo       0.85      0.73      0.78      1247\n",
      "       I-tim       0.83      0.81      0.82      3361\n",
      "       B-per       0.83      0.65      0.73      4067\n",
      "       B-org       1.00      0.38      0.56        52\n",
      "       I-gpe       0.00      0.00      0.00        38\n",
      "       B-nat       0.86      0.85      0.85      3448\n",
      "       I-per       0.91      0.87      0.89      3997\n",
      "       B-tim       0.99      1.00      1.00    543413\n",
      "           O       0.00      0.00      0.00        55\n",
      "       I-art       1.00      0.02      0.04        49\n",
      "       I-eve       0.00      0.00      0.00        71\n",
      "       B-art       0.88      0.21      0.34        70\n",
      "       B-eve       0.82      0.72      0.77      3442\n",
      "       I-org       0.78      0.78      0.78      1486\n",
      "       I-geo       0.00      0.00      0.00         0\n",
      "\n",
      "   micro avg       0.99      0.99      0.99    575506\n",
      "   macro avg       0.68      0.52      0.55    575506\n",
      "weighted avg       0.99      0.99      0.99    575506\n",
      "\n"
     ]
    }
   ],
   "source": [
    "#Evaluating the model\n",
    "from sklearn.metrics import classification_report\n",
    "y_pred = model.predict(np.array(X_test))  \n",
    "print(classification_report(np.argmax(y_test, -1).ravel(), \n",
    "                            np.argmax(y_pred, axis=-1).ravel(),\n",
    "                            labels=list(idx2tag.keys()), \n",
    "                            target_names=list(idx2tag.values())))"
   ]
  },
  {
   "cell_type": "code",
   "execution_count": null,
   "metadata": {},
   "outputs": [],
   "source": []
  }
 ],
 "metadata": {
  "kernelspec": {
   "display_name": "Python 3",
   "language": "python",
   "name": "python3"
  },
  "language_info": {
   "codemirror_mode": {
    "name": "ipython",
    "version": 3
   },
   "file_extension": ".py",
   "mimetype": "text/x-python",
   "name": "python",
   "nbconvert_exporter": "python",
   "pygments_lexer": "ipython3",
   "version": "3.8.8"
  }
 },
 "nbformat": 4,
 "nbformat_minor": 4
}
